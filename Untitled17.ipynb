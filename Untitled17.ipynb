{
  "nbformat": 4,
  "nbformat_minor": 0,
  "metadata": {
    "colab": {
      "provenance": []
    },
    "kernelspec": {
      "name": "python3",
      "display_name": "Python 3"
    },
    "language_info": {
      "name": "python"
    }
  },
  "cells": [
    {
      "cell_type": "code",
      "execution_count": null,
      "metadata": {
        "id": "lHXe2O6Mgucz"
      },
      "outputs": [],
      "source": [
        "import pandas as pd\n",
        "from sklearn.linear_model import LinearRegression\n",
        "\n",
        "# Dataset\n",
        "data = {\n",
        "    \"Study_Hours\": [2,4,6,8,5,9,7,3,10,1],\n",
        "    \"Attendance\": [60,70,80,90,75,95,85,65,100,50],\n",
        "    \"Sleep_Hours\": [6,7,6,5,8,5,6,7,5,8],\n",
        "    \"Past_Score\": [55,60,65,70,62,75,68,58,80,50],\n",
        "    \"Final_Grade\": [60,65,70,80,68,85,75,62,90,55]\n",
        "}\n",
        "\n",
        "df = pd.DataFrame(data)\n",
        "\n",
        "# Features and target\n",
        "X = df[[\"Study_Hours\", \"Attendance\", \"Sleep_Hours\", \"Past_Score\"]]\n",
        "y = df[\"Final_Grade\"]\n",
        "\n",
        "# Train model\n",
        "model = LinearRegression()\n",
        "model.fit(X, y)\n",
        "\n",
        "# Prediction\n",
        "prediction = model.predict([[7, 85, 6, 70]])\n",
        "print(\"Predicted Final Grade:\", prediction[0])\n",
        "\n",
        "# Factor Analysis\n",
        "coefficients = pd.DataFrame(model.coef_, X.columns, columns=[\"Effect_on_Final_Grade\"])\n",
        "print(coefficients)"
      ]
    }
  ]
}